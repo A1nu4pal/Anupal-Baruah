{
 "cells": [
  {
   "cell_type": "code",
   "execution_count": 1,
   "id": "9e9ce102",
   "metadata": {},
   "outputs": [
    {
     "name": "stdout",
     "output_type": "stream",
     "text": [
      "Total seconds: 2562\n"
     ]
    }
   ],
   "source": [
    "#Question 1\n",
    "total_seconds = 42 * 60 + 42\n",
    "print(\"Total seconds:\", total_seconds)"
   ]
  },
  {
   "cell_type": "code",
   "execution_count": 2,
   "id": "db5e3409",
   "metadata": {},
   "outputs": [
    {
     "name": "stdout",
     "output_type": "stream",
     "text": [
      "Miles: 6.211180124223602\n"
     ]
    }
   ],
   "source": [
    "#Question 2\n",
    "miles = 10 / 1.61\n",
    "print(\"Miles:\", miles)"
   ]
  },
  {
   "cell_type": "code",
   "execution_count": 4,
   "id": "b49e6adc",
   "metadata": {},
   "outputs": [
    {
     "name": "stdout",
     "output_type": "stream",
     "text": [
      "Average pace: 6 minutes 52 seconds per mile\n",
      "Average speed: 8.73 miles per hour\n"
     ]
    }
   ],
   "source": [
    "#Question 3\n",
    "total_minutes = 42 + 42 / 60  # Total time in minutes\n",
    "pace_minutes = total_minutes / miles  # Average pace per mile in minutes\n",
    "pace_seconds = (pace_minutes - int(pace_minutes)) * 60  # Convert the decimal part to seconds\n",
    "print(\"Average pace:\", int(pace_minutes), \"minutes\", round(pace_seconds), \"seconds per mile\")\n",
    "#convert to average pace\n",
    "total_hours = total_minutes / 60  # Total time in hours\n",
    "speed = miles / total_hours  # Average speed in miles per hour\n",
    "print(\"Average speed:\", round(speed, 2), \"miles per hour\")"
   ]
  },
  {
   "cell_type": "code",
   "execution_count": null,
   "id": "f6ed0e5f",
   "metadata": {},
   "outputs": [],
   "source": [
    "\n"
   ]
  }
 ],
 "metadata": {
  "kernelspec": {
   "display_name": "Python 3 (ipykernel)",
   "language": "python",
   "name": "python3"
  },
  "language_info": {
   "codemirror_mode": {
    "name": "ipython",
    "version": 3
   },
   "file_extension": ".py",
   "mimetype": "text/x-python",
   "name": "python",
   "nbconvert_exporter": "python",
   "pygments_lexer": "ipython3",
   "version": "3.11.4"
  }
 },
 "nbformat": 4,
 "nbformat_minor": 5
}
